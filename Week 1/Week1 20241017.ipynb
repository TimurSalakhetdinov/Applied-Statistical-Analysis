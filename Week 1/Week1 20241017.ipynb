{
 "cells": [
  {
   "cell_type": "markdown",
   "id": "4d57b24a-9d7e-495b-8367-cdeb5f67254c",
   "metadata": {},
   "source": [
    "Create a dictionary with:\n",
    "- Frequency of words\n",
    "- Type of words\n",
    "- Length of words\n",
    "- Lowercase\n",
    "- Only words (a-z)"
   ]
  },
  {
   "cell_type": "markdown",
   "id": "f0e240dd-62f7-4582-8afe-c30db65b778f",
   "metadata": {},
   "source": [
    "# Option 1"
   ]
  },
  {
   "cell_type": "code",
   "execution_count": 2,
   "id": "b17a5e07-1131-4d35-9e8d-a25f75ce025e",
   "metadata": {},
   "outputs": [],
   "source": [
    "# Get imports\n",
    "import re\n",
    "from collections import Counter"
   ]
  },
  {
   "cell_type": "code",
   "execution_count": 3,
   "id": "1a1b71aa-bbb5-407c-bd8c-2594f11ab296",
   "metadata": {},
   "outputs": [],
   "source": [
    "# Function to process text and create the dictionary\n",
    "def create_dictionary(text):\n",
    "    # Convert text to lowercase\n",
    "    text = text.lower()\n",
    "    \n",
    "    # Remove non-alphabetic characters (keeping only a-z and spaces)\n",
    "    text = re.sub(r'[^a-z\\s]', '', text)\n",
    "    \n",
    "    # Split the text into words\n",
    "    words = text.split()\n",
    "    \n",
    "    # Count the frequency of each word\n",
    "    word_frequency = Counter(words)\n",
    "    \n",
    "    # Get the unique words (types)\n",
    "    word_types = set(words)\n",
    "    \n",
    "    # Calculate the length of each word\n",
    "    word_lengths = {word: len(word) for word in words}\n",
    "    \n",
    "    # Create a dictionary with the required information\n",
    "    word_data = {\n",
    "        'frequency': dict(word_frequency),\n",
    "        'types': len(word_types),\n",
    "        'lengths': word_lengths\n",
    "    }\n",
    "    \n",
    "    return word_data"
   ]
  },
  {
   "cell_type": "code",
   "execution_count": 34,
   "id": "00cf5197-5ff6-43fd-94ae-6ffd5e07769d",
   "metadata": {},
   "outputs": [],
   "source": [
    "# Example text\n",
    "text = \"\"\"\n",
    "    This is a sample text. This text is just to check how the function behaves. \n",
    "    It should calculate frequency, types, and word lengths.\n",
    "\"\"\""
   ]
  },
  {
   "cell_type": "code",
   "execution_count": 5,
   "id": "7140fbf3-91cf-4849-8f4d-93479677d68e",
   "metadata": {},
   "outputs": [],
   "source": [
    "# Processing text\n",
    "word_data = create_dictionary(text)"
   ]
  },
  {
   "cell_type": "code",
   "execution_count": 6,
   "id": "63cdbe31-885d-489b-8b81-82a1cad31f9b",
   "metadata": {},
   "outputs": [
    {
     "data": {
      "text/plain": [
       "{'frequency': {'this': 2,\n",
       "  'is': 2,\n",
       "  'a': 1,\n",
       "  'sample': 1,\n",
       "  'text': 2,\n",
       "  'just': 1,\n",
       "  'to': 1,\n",
       "  'check': 1,\n",
       "  'how': 1,\n",
       "  'the': 1,\n",
       "  'function': 1,\n",
       "  'behaves': 1,\n",
       "  'it': 1,\n",
       "  'should': 1,\n",
       "  'calculate': 1,\n",
       "  'frequency': 1,\n",
       "  'types': 1,\n",
       "  'and': 1,\n",
       "  'word': 1,\n",
       "  'lengths': 1},\n",
       " 'types': 20,\n",
       " 'lengths': {'this': 4,\n",
       "  'is': 2,\n",
       "  'a': 1,\n",
       "  'sample': 6,\n",
       "  'text': 4,\n",
       "  'just': 4,\n",
       "  'to': 2,\n",
       "  'check': 5,\n",
       "  'how': 3,\n",
       "  'the': 3,\n",
       "  'function': 8,\n",
       "  'behaves': 7,\n",
       "  'it': 2,\n",
       "  'should': 6,\n",
       "  'calculate': 9,\n",
       "  'frequency': 9,\n",
       "  'types': 5,\n",
       "  'and': 3,\n",
       "  'word': 4,\n",
       "  'lengths': 7}}"
      ]
     },
     "execution_count": 6,
     "metadata": {},
     "output_type": "execute_result"
    }
   ],
   "source": [
    "# Output dictionary\n",
    "word_data"
   ]
  },
  {
   "cell_type": "markdown",
   "id": "c60b1d07-0fbc-4229-b17d-c71a3208c28c",
   "metadata": {},
   "source": [
    "# Option 2"
   ]
  },
  {
   "cell_type": "code",
   "execution_count": 38,
   "id": "6614d5d6-3dab-4068-a711-e4f55a21a53c",
   "metadata": {},
   "outputs": [
    {
     "name": "stderr",
     "output_type": "stream",
     "text": [
      "[nltk_data] Downloading package punkt to\n",
      "[nltk_data]     /Users/timursalakhetdinov/nltk_data...\n",
      "[nltk_data]   Package punkt is already up-to-date!\n",
      "[nltk_data] Downloading package averaged_perceptron_tagger to\n",
      "[nltk_data]     /Users/timursalakhetdinov/nltk_data...\n",
      "[nltk_data]   Package averaged_perceptron_tagger is already up-to-\n",
      "[nltk_data]       date!\n"
     ]
    }
   ],
   "source": [
    "# Get imports\n",
    "import re\n",
    "from collections import Counter\n",
    "import nltk\n",
    "from nltk import word_tokenize, pos_tag\n",
    "\n",
    "# Download resources from NLTK\n",
    "nltk.download('punkt')\n",
    "nltk.download('averaged_perceptron_tagger')\n",
    "\n",
    "# Dictionary to map POS tags to descriptive types\n",
    "pos_map = {\n",
    "    'NN': 'noun', 'NNS': 'noun', 'NNP': 'proper noun', 'NNPS': 'proper noun',\n",
    "    'VB': 'verb', 'VBD': 'verb', 'VBG': 'verb', 'VBN': 'verb', 'VBP': 'verb', 'VBZ': 'verb',\n",
    "    'JJ': 'adjective', 'JJR': 'adjective', 'JJS': 'adjective',\n",
    "    'RB': 'adverb', 'RBR': 'adverb', 'RBS': 'adverb',\n",
    "    'IN': 'preposition', 'DT': 'determiner', 'PRP': 'pronoun', 'PRP$': 'pronoun',\n",
    "    'TO': 'preposition', 'CC': 'conjunction', 'UH': 'interjection'\n",
    "}"
   ]
  },
  {
   "cell_type": "code",
   "execution_count": 48,
   "id": "a97bea1a-5760-4c86-9b2f-3fde3a03b2b7",
   "metadata": {},
   "outputs": [],
   "source": [
    "# Function to map POS tags to descriptive types\n",
    "def get_pos_description(tag):\n",
    "    return pos_map.get(tag, 'other')\n",
    "\n",
    "# Function to process text and create the dictionary\n",
    "def process_text(text):\n",
    "    # Remove any characters that are not alphabetic or apostrophes\n",
    "    words = re.findall(r\"[a-zA-Z']+\", text.lower())\n",
    "    \n",
    "    # Perform POS tagging\n",
    "    pos_tags = pos_tag(words)\n",
    "    \n",
    "    # Count word frequencies\n",
    "    word_frequency = Counter(words)\n",
    "    \n",
    "    # Create the desired dictionary with 'word': {'frequency', 'type', 'length'}\n",
    "    word_data = {}\n",
    "    for word, tag in pos_tags:\n",
    "        pos_description = get_pos_description(tag)  # Get the descriptive POS type\n",
    "        word_data[word] = {\n",
    "            'frequency': word_frequency[word],\n",
    "            'type': pos_description,\n",
    "            'length': len(word)\n",
    "        }\n",
    "    \n",
    "    return word_data"
   ]
  },
  {
   "cell_type": "code",
   "execution_count": null,
   "id": "a0f37fa2-d14b-4a4a-a9cd-86b8b4f41f59",
   "metadata": {},
   "outputs": [],
   "source": [
    "# Example text\n",
    "text = \"\"\"\n",
    "    This is a sample text. This text is just to check how the function behaves. \n",
    "    It should calculate frequency, types, and word lengths.\n",
    "\"\"\""
   ]
  },
  {
   "cell_type": "code",
   "execution_count": 50,
   "id": "e4f7d1e1-27fa-425b-b71f-cccf5c7a9052",
   "metadata": {},
   "outputs": [
    {
     "data": {
      "text/plain": [
       "{'this': {'frequency': 2, 'type': 'determiner', 'length': 4},\n",
       " 'is': {'frequency': 2, 'type': 'verb', 'length': 2},\n",
       " 'a': {'frequency': 1, 'type': 'determiner', 'length': 1},\n",
       " 'sample': {'frequency': 1, 'type': 'adjective', 'length': 6},\n",
       " 'text': {'frequency': 2, 'type': 'noun', 'length': 4},\n",
       " 'just': {'frequency': 1, 'type': 'adverb', 'length': 4},\n",
       " 'to': {'frequency': 1, 'type': 'preposition', 'length': 2},\n",
       " 'check': {'frequency': 1, 'type': 'verb', 'length': 5},\n",
       " 'how': {'frequency': 1, 'type': 'other', 'length': 3},\n",
       " 'the': {'frequency': 1, 'type': 'determiner', 'length': 3},\n",
       " 'function': {'frequency': 1, 'type': 'noun', 'length': 8},\n",
       " 'behaves': {'frequency': 1, 'type': 'verb', 'length': 7},\n",
       " 'it': {'frequency': 1, 'type': 'pronoun', 'length': 2},\n",
       " 'should': {'frequency': 1, 'type': 'other', 'length': 6},\n",
       " 'calculate': {'frequency': 1, 'type': 'verb', 'length': 9},\n",
       " 'frequency': {'frequency': 1, 'type': 'noun', 'length': 9},\n",
       " 'types': {'frequency': 1, 'type': 'noun', 'length': 5},\n",
       " 'and': {'frequency': 1, 'type': 'conjunction', 'length': 3},\n",
       " 'word': {'frequency': 1, 'type': 'noun', 'length': 4},\n",
       " 'lengths': {'frequency': 1, 'type': 'noun', 'length': 7}}"
      ]
     },
     "metadata": {},
     "output_type": "display_data"
    }
   ],
   "source": [
    "# Processing the text\n",
    "word_data = process_text(text)\n",
    "\n",
    "# Output result\n",
    "display(word_data)"
   ]
  },
  {
   "cell_type": "code",
   "execution_count": null,
   "id": "112246b0-5cde-42c8-aa0b-21bb3b678fd6",
   "metadata": {},
   "outputs": [],
   "source": []
  }
 ],
 "metadata": {
  "kernelspec": {
   "display_name": "Python 3 (ipykernel)",
   "language": "python",
   "name": "python3"
  },
  "language_info": {
   "codemirror_mode": {
    "name": "ipython",
    "version": 3
   },
   "file_extension": ".py",
   "mimetype": "text/x-python",
   "name": "python",
   "nbconvert_exporter": "python",
   "pygments_lexer": "ipython3",
   "version": "3.12.2"
  }
 },
 "nbformat": 4,
 "nbformat_minor": 5
}

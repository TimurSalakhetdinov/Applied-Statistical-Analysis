{
 "cells": [
  {
   "cell_type": "code",
   "execution_count": 1,
   "metadata": {},
   "outputs": [],
   "source": [
    "#pip install selenium beautifulsoup4 pandas ollama"
   ]
  },
  {
   "cell_type": "code",
   "execution_count": 1,
   "metadata": {},
   "outputs": [
    {
     "name": "stdout",
     "output_type": "stream",
     "text": [
      "❌ Failed to fetch IMDb page. Status Code: 401\n"
     ]
    },
    {
     "ename": "NameError",
     "evalue": "name 'html' is not defined",
     "output_type": "error",
     "traceback": [
      "\u001b[0;31m---------------------------------------------------------------------------\u001b[0m",
      "\u001b[0;31mNameError\u001b[0m                                 Traceback (most recent call last)",
      "Cell \u001b[0;32mIn[1], line 28\u001b[0m\n\u001b[1;32m     25\u001b[0m     exit()\n\u001b[1;32m     27\u001b[0m \u001b[38;5;66;03m# ✅ Parse IMDb HTML with BeautifulSoup\u001b[39;00m\n\u001b[0;32m---> 28\u001b[0m soup \u001b[38;5;241m=\u001b[39m BeautifulSoup(\u001b[43mhtml\u001b[49m, \u001b[38;5;124m\"\u001b[39m\u001b[38;5;124mhtml.parser\u001b[39m\u001b[38;5;124m\"\u001b[39m)\n\u001b[1;32m     29\u001b[0m movies \u001b[38;5;241m=\u001b[39m []\n\u001b[1;32m     31\u001b[0m \u001b[38;5;66;03m# ✅ Extracting movie titles & ratings\u001b[39;00m\n",
      "\u001b[0;31mNameError\u001b[0m: name 'html' is not defined"
     ]
    },
    {
     "ename": "",
     "evalue": "",
     "output_type": "error",
     "traceback": [
      "\u001b[1;31mThe Kernel crashed while executing code in the current cell or a previous cell. \n",
      "\u001b[1;31mPlease review the code in the cell(s) to identify a possible cause of the failure. \n",
      "\u001b[1;31mClick <a href='https://aka.ms/vscodeJupyterKernelCrash'>here</a> for more info. \n",
      "\u001b[1;31mView Jupyter <a href='command:jupyter.viewOutput'>log</a> for further details."
     ]
    }
   ],
   "source": [
    "from bs4 import BeautifulSoup\n",
    "import pandas as pd\n",
    "import requests\n",
    "import ollama\n",
    "import os\n",
    "\n",
    "# ✅ ScraperAPI Key (Use Your Own https://www.scraperapi.com/)\n",
    "API_KEY = os.getenv(\"SCRAPER_API_KEY\")  # Fetch the API key securely\n",
    "\n",
    "# ✅ IMDb Top 250 URL\n",
    "imdb_url = \"https://www.imdb.com/chart/top/?ref_=nv_mv_250\"\n",
    "\n",
    "# ✅ ScraperAPI URL to bypass bot detection\n",
    "proxy_url = f\"http://api.scraperapi.com?api_key={API_KEY}&url={imdb_url}&render=true\"\n",
    "\n",
    "# ✅ Fetch IMDb page through ScraperAPI\n",
    "response = requests.get(proxy_url)\n",
    "\n",
    "# ✅ Check if request was successful\n",
    "if response.status_code == 200:\n",
    "    html = response.text\n",
    "    print(\"✅ IMDb page fetched successfully. HTML Length:\", len(html))\n",
    "else:\n",
    "    print(\"❌ Failed to fetch IMDb page. Status Code:\", response.status_code)\n",
    "    exit()\n",
    "\n",
    "# ✅ Parse IMDb HTML with BeautifulSoup\n",
    "soup = BeautifulSoup(html, \"html.parser\")\n",
    "movies = []\n",
    "\n",
    "# ✅ Extracting movie titles & ratings\n",
    "movie_rows = soup.select(\"li.ipc-metadata-list-summary-item\")\n",
    "\n",
    "for movie in movie_rows:\n",
    "    title = movie.find(\"h3\")\n",
    "    rating = movie.find(\"span\", class_=\"ipc-rating-star\")\n",
    "    \n",
    "    if title and rating:\n",
    "        movies.append({\"Title\": title.text.strip(), \"Rating\": rating.text.strip()})\n",
    "\n",
    "# ✅ Convert extracted data to a Pandas DataFrame\n",
    "df = pd.DataFrame(movies)\n",
    "\n",
    "# ✅ Save extracted data to CSV file\n",
    "df.to_csv(\"imdb_top_250.csv\", index=False)\n",
    "\n",
    "# ✅ Display top 10 results\n",
    "print(\"\\n🎬 Top 10 Movies Extracted from IMDb:\\n\")\n",
    "print(df.head(10))\n",
    "\n",
    "# ✅ Use Ollama (Qwen-2.5) for AI Summary (Optional)\n",
    "if not df.empty:\n",
    "    movie_list_text = \"\\n\".join([f\"{movie['Title']} - {movie['Rating']}\" for movie in movies])\n",
    "\n",
    "    prompt = f\"Here is a list of top 250 IMDb movies with ratings:\\n{movie_list_text}\\nSummarize the best ones.\"\n",
    "    response = ollama.chat(model=\"qwen2.5\", messages=[{\"role\": \"user\", \"content\": prompt}])\n",
    "\n",
    "    print(\"\\n📌 Ollama AI Summary:\\n\")\n",
    "    print(response['message']['content'])"
   ]
  },
  {
   "cell_type": "code",
   "execution_count": null,
   "metadata": {},
   "outputs": [],
   "source": []
  }
 ],
 "metadata": {
  "kernelspec": {
   "display_name": ".venv",
   "language": "python",
   "name": "python3"
  },
  "language_info": {
   "codemirror_mode": {
    "name": "ipython",
    "version": 3
   },
   "file_extension": ".py",
   "mimetype": "text/x-python",
   "name": "python",
   "nbconvert_exporter": "python",
   "pygments_lexer": "ipython3",
   "version": "3.9.1"
  }
 },
 "nbformat": 4,
 "nbformat_minor": 2
}

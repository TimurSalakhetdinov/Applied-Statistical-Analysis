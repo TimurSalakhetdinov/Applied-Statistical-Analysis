{
 "cells": [
  {
   "cell_type": "markdown",
   "id": "4d57b24a-9d7e-495b-8367-cdeb5f67254c",
   "metadata": {},
   "source": [
    "# 1. Python Basics - Dictionary creation\n",
    "\n",
    "Create a dictionary with:\n",
    "- Frequency of words\n",
    "- Type of words\n",
    "- Length of words\n",
    "- Lowercase\n",
    "- Only words (a-z)"
   ]
  },
  {
   "cell_type": "code",
   "execution_count": 2,
   "id": "8382c6ff-9e45-4490-bdf8-ec32e3c35ffc",
   "metadata": {},
   "outputs": [],
   "source": [
    "# Example input text\n",
    "text = \"\"\"\n",
    "    In academia and political debates, the notions of 'degrowth' has gained traction since the dawn of the 21st century. \n",
    "    While some uncertainty around its exact definition remains, research on degrowth revolves around the idea of reducing resource and energy throughput as a unifying theme.\n",
    "    We employ a mixed-methods design to systematicaly review the scientific peer-reviewed English literature from 2008 to 2022 that refers to 'degrowth' or 'post-growth' in title, keywords or abstract (N = 951).\n",
    "    We find a lack of concrete distributional and monetary policy proposals in the same analyzed, and a low overall degree of collaboration among authors in relation to degrowth's age and sieze.\n",
    "\"\"\""
   ]
  },
  {
   "cell_type": "markdown",
   "id": "9e152c4e-4f9d-430b-866c-e669f4010fdc",
   "metadata": {},
   "source": [
    "## Basic Option"
   ]
  },
  {
   "cell_type": "code",
   "execution_count": 4,
   "id": "ab010b97-8d79-4b13-9507-dd0ec6446ac6",
   "metadata": {},
   "outputs": [],
   "source": [
    "# Import packages\n",
    "import re\n",
    "from collections import Counter"
   ]
  },
  {
   "cell_type": "code",
   "execution_count": 5,
   "id": "208ad21f-d2ac-41cd-954a-7ffacecb676d",
   "metadata": {},
   "outputs": [],
   "source": [
    "# Create function to check types of words\n",
    "def guess_word_type(word):\n",
    "    if word.endswith('ing'):\n",
    "        return 'verb'\n",
    "    elif word.endswith('ed'):\n",
    "        return 'verb'\n",
    "    elif word.endswith('ly'):\n",
    "        return 'adverb'\n",
    "    elif word.endswith('tion') or word.endswith('ment'):\n",
    "        return 'noun'\n",
    "    elif word.endswith('ous') or word.endswith('ive') or word.endswith('able'):\n",
    "        return 'adjective'\n",
    "    elif word in ['a', 'the', 'an']:\n",
    "        return 'determiner'\n",
    "    elif word in ['and', 'or']:\n",
    "        return 'conjunction'\n",
    "    else:\n",
    "        return 'noun'"
   ]
  },
  {
   "cell_type": "code",
   "execution_count": 6,
   "id": "334ddb2d-06dc-4cd5-991c-2425a3ec42fd",
   "metadata": {},
   "outputs": [],
   "source": [
    "# Create function to process text and create the dictionary\n",
    "def process_text(text):\n",
    "\n",
    "    # Find words containing only alphabetic characters and apostrophes\n",
    "    words = re.findall(r\"\\b[a-zA-Z']+\\b\", text.lower())\n",
    "    \n",
    "    # Remove 's and  apostrophes\n",
    "    cleaned_words = [re.sub(r\"'s$|'\", '', word) for word in words]\n",
    "    \n",
    "    # Count word frequencies\n",
    "    word_frequency = Counter(cleaned_words)\n",
    "    \n",
    "    # Create the desired dictionary with word: frequency, type, length\n",
    "    word_data = {}\n",
    "    for word in cleaned_words:\n",
    "        word_type = guess_word_type(word)  # Function to check word types\n",
    "        word_data[word] = {\n",
    "            'frequency': word_frequency[word],\n",
    "            'type': word_type,\n",
    "            'length': len(word)\n",
    "        }\n",
    "    # Sort the dictionary alphabetically\n",
    "    word_data = {key: word_data[key] for key in sorted(word_data)}\n",
    "    \n",
    "    return word_data"
   ]
  },
  {
   "cell_type": "code",
   "execution_count": 7,
   "id": "cb92492b-894b-4046-b53f-f35c452caab4",
   "metadata": {},
   "outputs": [
    {
     "data": {
      "text/plain": [
       "{'a': {'frequency': 4, 'type': 'determiner', 'length': 1},\n",
       " 'abstract': {'frequency': 1, 'type': 'noun', 'length': 8},\n",
       " 'academia': {'frequency': 1, 'type': 'noun', 'length': 8},\n",
       " 'age': {'frequency': 1, 'type': 'noun', 'length': 3},\n",
       " 'among': {'frequency': 1, 'type': 'noun', 'length': 5},\n",
       " 'analyzed': {'frequency': 1, 'type': 'verb', 'length': 8},\n",
       " 'and': {'frequency': 5, 'type': 'conjunction', 'length': 3},\n",
       " 'around': {'frequency': 2, 'type': 'noun', 'length': 6},\n",
       " 'as': {'frequency': 1, 'type': 'noun', 'length': 2},\n",
       " 'authors': {'frequency': 1, 'type': 'noun', 'length': 7},\n",
       " 'century': {'frequency': 1, 'type': 'noun', 'length': 7},\n",
       " 'collaboration': {'frequency': 1, 'type': 'noun', 'length': 13},\n",
       " 'concrete': {'frequency': 1, 'type': 'noun', 'length': 8},\n",
       " 'dawn': {'frequency': 1, 'type': 'noun', 'length': 4},\n",
       " 'debates': {'frequency': 1, 'type': 'noun', 'length': 7},\n",
       " 'definition': {'frequency': 1, 'type': 'noun', 'length': 10},\n",
       " 'degree': {'frequency': 1, 'type': 'noun', 'length': 6},\n",
       " 'degrowth': {'frequency': 4, 'type': 'noun', 'length': 8},\n",
       " 'design': {'frequency': 1, 'type': 'noun', 'length': 6},\n",
       " 'distributional': {'frequency': 1, 'type': 'noun', 'length': 14},\n",
       " 'employ': {'frequency': 1, 'type': 'noun', 'length': 6},\n",
       " 'energy': {'frequency': 1, 'type': 'noun', 'length': 6},\n",
       " 'english': {'frequency': 1, 'type': 'noun', 'length': 7},\n",
       " 'exact': {'frequency': 1, 'type': 'noun', 'length': 5},\n",
       " 'find': {'frequency': 1, 'type': 'noun', 'length': 4},\n",
       " 'from': {'frequency': 1, 'type': 'noun', 'length': 4},\n",
       " 'gained': {'frequency': 1, 'type': 'verb', 'length': 6},\n",
       " 'growth': {'frequency': 1, 'type': 'noun', 'length': 6},\n",
       " 'has': {'frequency': 1, 'type': 'noun', 'length': 3},\n",
       " 'idea': {'frequency': 1, 'type': 'noun', 'length': 4},\n",
       " 'in': {'frequency': 4, 'type': 'noun', 'length': 2},\n",
       " 'its': {'frequency': 1, 'type': 'noun', 'length': 3},\n",
       " 'keywords': {'frequency': 1, 'type': 'noun', 'length': 8},\n",
       " 'lack': {'frequency': 1, 'type': 'noun', 'length': 4},\n",
       " 'literature': {'frequency': 1, 'type': 'noun', 'length': 10},\n",
       " 'low': {'frequency': 1, 'type': 'noun', 'length': 3},\n",
       " 'methods': {'frequency': 1, 'type': 'noun', 'length': 7},\n",
       " 'mixed': {'frequency': 1, 'type': 'verb', 'length': 5},\n",
       " 'monetary': {'frequency': 1, 'type': 'noun', 'length': 8},\n",
       " 'n': {'frequency': 1, 'type': 'noun', 'length': 1},\n",
       " 'notions': {'frequency': 1, 'type': 'noun', 'length': 7},\n",
       " 'of': {'frequency': 5, 'type': 'noun', 'length': 2},\n",
       " 'on': {'frequency': 1, 'type': 'noun', 'length': 2},\n",
       " 'or': {'frequency': 2, 'type': 'conjunction', 'length': 2},\n",
       " 'overall': {'frequency': 1, 'type': 'noun', 'length': 7},\n",
       " 'peer': {'frequency': 1, 'type': 'noun', 'length': 4},\n",
       " 'policy': {'frequency': 1, 'type': 'noun', 'length': 6},\n",
       " 'political': {'frequency': 1, 'type': 'noun', 'length': 9},\n",
       " 'post': {'frequency': 1, 'type': 'noun', 'length': 4},\n",
       " 'proposals': {'frequency': 1, 'type': 'noun', 'length': 9},\n",
       " 'reducing': {'frequency': 1, 'type': 'verb', 'length': 8},\n",
       " 'refers': {'frequency': 1, 'type': 'noun', 'length': 6},\n",
       " 'relation': {'frequency': 1, 'type': 'noun', 'length': 8},\n",
       " 'remains': {'frequency': 1, 'type': 'noun', 'length': 7},\n",
       " 'research': {'frequency': 1, 'type': 'noun', 'length': 8},\n",
       " 'resource': {'frequency': 1, 'type': 'noun', 'length': 8},\n",
       " 'review': {'frequency': 1, 'type': 'noun', 'length': 6},\n",
       " 'reviewed': {'frequency': 1, 'type': 'verb', 'length': 8},\n",
       " 'revolves': {'frequency': 1, 'type': 'noun', 'length': 8},\n",
       " 'same': {'frequency': 1, 'type': 'noun', 'length': 4},\n",
       " 'scientific': {'frequency': 1, 'type': 'noun', 'length': 10},\n",
       " 'sieze': {'frequency': 1, 'type': 'noun', 'length': 5},\n",
       " 'since': {'frequency': 1, 'type': 'noun', 'length': 5},\n",
       " 'some': {'frequency': 1, 'type': 'noun', 'length': 4},\n",
       " 'systematicaly': {'frequency': 1, 'type': 'adverb', 'length': 13},\n",
       " 'that': {'frequency': 1, 'type': 'noun', 'length': 4},\n",
       " 'the': {'frequency': 6, 'type': 'determiner', 'length': 3},\n",
       " 'theme': {'frequency': 1, 'type': 'noun', 'length': 5},\n",
       " 'throughput': {'frequency': 1, 'type': 'noun', 'length': 10},\n",
       " 'title': {'frequency': 1, 'type': 'noun', 'length': 5},\n",
       " 'to': {'frequency': 4, 'type': 'noun', 'length': 2},\n",
       " 'traction': {'frequency': 1, 'type': 'noun', 'length': 8},\n",
       " 'uncertainty': {'frequency': 1, 'type': 'noun', 'length': 11},\n",
       " 'unifying': {'frequency': 1, 'type': 'verb', 'length': 8},\n",
       " 'we': {'frequency': 2, 'type': 'noun', 'length': 2},\n",
       " 'while': {'frequency': 1, 'type': 'noun', 'length': 5}}"
      ]
     },
     "metadata": {},
     "output_type": "display_data"
    }
   ],
   "source": [
    "# Processing the text\n",
    "dictionary = process_text(text)\n",
    "\n",
    "# Displaying the result\n",
    "display(dictionary)"
   ]
  },
  {
   "cell_type": "markdown",
   "id": "7f61e7f0-5c7c-4669-a6e2-81f8182c92ed",
   "metadata": {},
   "source": [
    "## Option with NLTK"
   ]
  },
  {
   "cell_type": "code",
   "execution_count": 9,
   "id": "f9fd3733-a81b-45c5-961f-5b138ea5581e",
   "metadata": {},
   "outputs": [
    {
     "name": "stderr",
     "output_type": "stream",
     "text": [
      "[nltk_data] Downloading package punkt to\n",
      "[nltk_data]     /Users/timursalakhetdinov/nltk_data...\n",
      "[nltk_data]   Package punkt is already up-to-date!\n",
      "[nltk_data] Downloading package averaged_perceptron_tagger to\n",
      "[nltk_data]     /Users/timursalakhetdinov/nltk_data...\n",
      "[nltk_data]   Package averaged_perceptron_tagger is already up-to-\n",
      "[nltk_data]       date!\n"
     ]
    },
    {
     "data": {
      "text/plain": [
       "True"
      ]
     },
     "execution_count": 9,
     "metadata": {},
     "output_type": "execute_result"
    }
   ],
   "source": [
    "# Get imports\n",
    "import re\n",
    "from collections import Counter\n",
    "import nltk\n",
    "from nltk import word_tokenize, pos_tag\n",
    "\n",
    "# Download NLTK\n",
    "nltk.download('punkt')\n",
    "nltk.download('averaged_perceptron_tagger')"
   ]
  },
  {
   "cell_type": "code",
   "execution_count": 10,
   "id": "e7cd6ee5-b529-424a-9fa0-5f1d37f2ccf6",
   "metadata": {},
   "outputs": [],
   "source": [
    "# Dictionary to map POS tags to proper description\n",
    "pos_map = {\n",
    "    'NN': 'noun', 'NNS': 'noun', 'NNP': 'proper noun', 'NNPS': 'proper noun',\n",
    "    'VB': 'verb', 'VBD': 'verb', 'VBG': 'verb', 'VBN': 'verb', 'VBP': 'verb', 'VBZ': 'verb',\n",
    "    'JJ': 'adjective', 'JJR': 'adjective', 'JJS': 'adjective',\n",
    "    'RB': 'adverb', 'RBR': 'adverb', 'RBS': 'adverb',\n",
    "    'IN': 'preposition', 'DT': 'determiner', 'PRP': 'pronoun', 'PRP$': 'pronoun',\n",
    "    'TO': 'preposition', 'CC': 'conjunction', 'UH': 'interjection'\n",
    "}\n",
    "\n",
    "# Function to process text and create dictionary\n",
    "def process_text_with_nltk(text):\n",
    "    # Find words containing only alphabetic characters and apostrophes\n",
    "    words = re.findall(r\"\\b[a-zA-Z']+\\b\", text.lower())\n",
    "    \n",
    "    # Remove possessive 's (like in \"degrowth's\") and standalone apostrophes\n",
    "    cleaned_words = [re.sub(r\"'s$|'\", '', word) for word in words]\n",
    "    \n",
    "    # Perform POS tagging\n",
    "    pos_tags = pos_tag(cleaned_words)\n",
    "    \n",
    "    # Count word frequencies\n",
    "    word_frequency = Counter(cleaned_words)\n",
    "    \n",
    "    # Create the desired dictionary with word: {frequency, type, length}\n",
    "    word_data = {}\n",
    "    for word, tag in pos_tags:\n",
    "        pos_description = pos_map.get(tag, 'other')  # Get the descriptive type\n",
    "        word_data[word] = {\n",
    "            'frequency': word_frequency[word],\n",
    "            'type': pos_description,\n",
    "            'length': len(word)\n",
    "        }\n",
    "    # Sort the dictionary alphabetically\n",
    "    word_data = {key: word_data[key] for key in sorted(word_data)}\n",
    "    \n",
    "    return word_data"
   ]
  },
  {
   "cell_type": "code",
   "execution_count": 11,
   "id": "7dc5f321-b920-4387-a69b-89d826a05724",
   "metadata": {},
   "outputs": [
    {
     "data": {
      "text/plain": [
       "{'a': {'frequency': 4, 'type': 'determiner', 'length': 1},\n",
       " 'abstract': {'frequency': 1, 'type': 'adjective', 'length': 8},\n",
       " 'academia': {'frequency': 1, 'type': 'noun', 'length': 8},\n",
       " 'age': {'frequency': 1, 'type': 'noun', 'length': 3},\n",
       " 'among': {'frequency': 1, 'type': 'preposition', 'length': 5},\n",
       " 'analyzed': {'frequency': 1, 'type': 'adjective', 'length': 8},\n",
       " 'and': {'frequency': 5, 'type': 'conjunction', 'length': 3},\n",
       " 'around': {'frequency': 2, 'type': 'preposition', 'length': 6},\n",
       " 'as': {'frequency': 1, 'type': 'preposition', 'length': 2},\n",
       " 'authors': {'frequency': 1, 'type': 'noun', 'length': 7},\n",
       " 'century': {'frequency': 1, 'type': 'noun', 'length': 7},\n",
       " 'collaboration': {'frequency': 1, 'type': 'noun', 'length': 13},\n",
       " 'concrete': {'frequency': 1, 'type': 'adjective', 'length': 8},\n",
       " 'dawn': {'frequency': 1, 'type': 'noun', 'length': 4},\n",
       " 'debates': {'frequency': 1, 'type': 'noun', 'length': 7},\n",
       " 'definition': {'frequency': 1, 'type': 'noun', 'length': 10},\n",
       " 'degree': {'frequency': 1, 'type': 'noun', 'length': 6},\n",
       " 'degrowth': {'frequency': 4, 'type': 'verb', 'length': 8},\n",
       " 'design': {'frequency': 1, 'type': 'noun', 'length': 6},\n",
       " 'distributional': {'frequency': 1, 'type': 'noun', 'length': 14},\n",
       " 'employ': {'frequency': 1, 'type': 'verb', 'length': 6},\n",
       " 'energy': {'frequency': 1, 'type': 'noun', 'length': 6},\n",
       " 'english': {'frequency': 1, 'type': 'adjective', 'length': 7},\n",
       " 'exact': {'frequency': 1, 'type': 'adjective', 'length': 5},\n",
       " 'find': {'frequency': 1, 'type': 'verb', 'length': 4},\n",
       " 'from': {'frequency': 1, 'type': 'preposition', 'length': 4},\n",
       " 'gained': {'frequency': 1, 'type': 'verb', 'length': 6},\n",
       " 'growth': {'frequency': 1, 'type': 'noun', 'length': 6},\n",
       " 'has': {'frequency': 1, 'type': 'verb', 'length': 3},\n",
       " 'idea': {'frequency': 1, 'type': 'noun', 'length': 4},\n",
       " 'in': {'frequency': 4, 'type': 'preposition', 'length': 2},\n",
       " 'its': {'frequency': 1, 'type': 'pronoun', 'length': 3},\n",
       " 'keywords': {'frequency': 1, 'type': 'noun', 'length': 8},\n",
       " 'lack': {'frequency': 1, 'type': 'noun', 'length': 4},\n",
       " 'literature': {'frequency': 1, 'type': 'noun', 'length': 10},\n",
       " 'low': {'frequency': 1, 'type': 'adjective', 'length': 3},\n",
       " 'methods': {'frequency': 1, 'type': 'noun', 'length': 7},\n",
       " 'mixed': {'frequency': 1, 'type': 'adjective', 'length': 5},\n",
       " 'monetary': {'frequency': 1, 'type': 'adjective', 'length': 8},\n",
       " 'n': {'frequency': 1, 'type': 'preposition', 'length': 1},\n",
       " 'notions': {'frequency': 1, 'type': 'noun', 'length': 7},\n",
       " 'of': {'frequency': 5, 'type': 'preposition', 'length': 2},\n",
       " 'on': {'frequency': 1, 'type': 'preposition', 'length': 2},\n",
       " 'or': {'frequency': 2, 'type': 'conjunction', 'length': 2},\n",
       " 'overall': {'frequency': 1, 'type': 'adjective', 'length': 7},\n",
       " 'peer': {'frequency': 1, 'type': 'noun', 'length': 4},\n",
       " 'policy': {'frequency': 1, 'type': 'noun', 'length': 6},\n",
       " 'political': {'frequency': 1, 'type': 'adjective', 'length': 9},\n",
       " 'post': {'frequency': 1, 'type': 'verb', 'length': 4},\n",
       " 'proposals': {'frequency': 1, 'type': 'noun', 'length': 9},\n",
       " 'reducing': {'frequency': 1, 'type': 'verb', 'length': 8},\n",
       " 'refers': {'frequency': 1, 'type': 'noun', 'length': 6},\n",
       " 'relation': {'frequency': 1, 'type': 'noun', 'length': 8},\n",
       " 'remains': {'frequency': 1, 'type': 'verb', 'length': 7},\n",
       " 'research': {'frequency': 1, 'type': 'noun', 'length': 8},\n",
       " 'resource': {'frequency': 1, 'type': 'noun', 'length': 8},\n",
       " 'review': {'frequency': 1, 'type': 'verb', 'length': 6},\n",
       " 'reviewed': {'frequency': 1, 'type': 'verb', 'length': 8},\n",
       " 'revolves': {'frequency': 1, 'type': 'noun', 'length': 8},\n",
       " 'same': {'frequency': 1, 'type': 'adjective', 'length': 4},\n",
       " 'scientific': {'frequency': 1, 'type': 'adjective', 'length': 10},\n",
       " 'sieze': {'frequency': 1, 'type': 'noun', 'length': 5},\n",
       " 'since': {'frequency': 1, 'type': 'preposition', 'length': 5},\n",
       " 'some': {'frequency': 1, 'type': 'determiner', 'length': 4},\n",
       " 'systematicaly': {'frequency': 1, 'type': 'verb', 'length': 13},\n",
       " 'that': {'frequency': 1, 'type': 'determiner', 'length': 4},\n",
       " 'the': {'frequency': 6, 'type': 'determiner', 'length': 3},\n",
       " 'theme': {'frequency': 1, 'type': 'noun', 'length': 5},\n",
       " 'throughput': {'frequency': 1, 'type': 'noun', 'length': 10},\n",
       " 'title': {'frequency': 1, 'type': 'noun', 'length': 5},\n",
       " 'to': {'frequency': 4, 'type': 'preposition', 'length': 2},\n",
       " 'traction': {'frequency': 1, 'type': 'noun', 'length': 8},\n",
       " 'uncertainty': {'frequency': 1, 'type': 'noun', 'length': 11},\n",
       " 'unifying': {'frequency': 1, 'type': 'adjective', 'length': 8},\n",
       " 'we': {'frequency': 2, 'type': 'pronoun', 'length': 2},\n",
       " 'while': {'frequency': 1, 'type': 'preposition', 'length': 5}}"
      ]
     },
     "metadata": {},
     "output_type": "display_data"
    }
   ],
   "source": [
    "# Processing the text\n",
    "dictionary = process_text_with_nltk(text)\n",
    "\n",
    "# Output result\n",
    "display(dictionary)"
   ]
  },
  {
   "cell_type": "code",
   "execution_count": null,
   "id": "2a3cea15-3950-4c62-86a1-052ec4195931",
   "metadata": {},
   "outputs": [],
   "source": []
  }
 ],
 "metadata": {
  "kernelspec": {
   "display_name": "Python 3 (ipykernel)",
   "language": "python",
   "name": "python3"
  },
  "language_info": {
   "codemirror_mode": {
    "name": "ipython",
    "version": 3
   },
   "file_extension": ".py",
   "mimetype": "text/x-python",
   "name": "python",
   "nbconvert_exporter": "python",
   "pygments_lexer": "ipython3",
   "version": "3.12.2"
  }
 },
 "nbformat": 4,
 "nbformat_minor": 5
}
